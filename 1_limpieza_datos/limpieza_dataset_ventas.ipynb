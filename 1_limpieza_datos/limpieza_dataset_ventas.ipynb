{
 "cells": [
  {
   "cell_type": "code",
   "execution_count": 60,
   "metadata": {},
   "outputs": [],
   "source": [
    "import pandas as pd\n",
    "import numpy as np\n",
    "import openpyxl"
   ]
  },
  {
   "cell_type": "markdown",
   "metadata": {},
   "source": [
    "Este codigo entrega un archivo Excel, como resultado de un csv procesado con este codigo. \n",
    "Este codigo contiene: \n",
    "- Llama a metodos de información para conocer el estado del DataFrame\n",
    "- Funciones de limpieza\n",
    "- Resultados\n",
    "\n",
    "\"Agradezco su consideración\" Tsunami Martínez"
   ]
  },
  {
   "cell_type": "markdown",
   "metadata": {},
   "source": [
    "### Desarrolla el codigo en Python para obtener un datafrae limpio con el csv proporcionado y regresalo en un archivo de excel"
   ]
  },
  {
   "cell_type": "markdown",
   "metadata": {},
   "source": [
    "### Leer y conocer el archivo csv"
   ]
  },
  {
   "cell_type": "code",
   "execution_count": 61,
   "metadata": {},
   "outputs": [],
   "source": [
    "# Leer archivo csv\n",
    "df_data_set = pd.read_csv(\n",
    "    \"C:\\\\Users\\\\tsuda\\\\Downloads\\\\EXAMEN DATA ENGINEER JR\\\\EXAMEN DATA ENGINEER JR\\\\DATA SET  EJERCICIO.csv\",\n",
    "    delimiter=\";\",\n",
    ")"
   ]
  },
  {
   "cell_type": "code",
   "execution_count": 62,
   "metadata": {},
   "outputs": [
    {
     "data": {
      "text/html": [
       "<div>\n",
       "<style scoped>\n",
       "    .dataframe tbody tr th:only-of-type {\n",
       "        vertical-align: middle;\n",
       "    }\n",
       "\n",
       "    .dataframe tbody tr th {\n",
       "        vertical-align: top;\n",
       "    }\n",
       "\n",
       "    .dataframe thead th {\n",
       "        text-align: right;\n",
       "    }\n",
       "</style>\n",
       "<table border=\"1\" class=\"dataframe\">\n",
       "  <thead>\n",
       "    <tr style=\"text-align: right;\">\n",
       "      <th></th>\n",
       "      <th>Transaction ID</th>\n",
       "      <th>Item</th>\n",
       "      <th>Quantity</th>\n",
       "      <th>Price Per Unit</th>\n",
       "      <th>Total Spent</th>\n",
       "      <th>Payment Method</th>\n",
       "      <th>Location</th>\n",
       "      <th>Transaction Date</th>\n",
       "    </tr>\n",
       "  </thead>\n",
       "  <tbody>\n",
       "    <tr>\n",
       "      <th>0</th>\n",
       "      <td>TXN_1961373</td>\n",
       "      <td>Coffee</td>\n",
       "      <td>2</td>\n",
       "      <td>2</td>\n",
       "      <td>4</td>\n",
       "      <td>Credit Card</td>\n",
       "      <td>Takeaway</td>\n",
       "      <td>08/09/2023 00:00</td>\n",
       "    </tr>\n",
       "    <tr>\n",
       "      <th>1</th>\n",
       "      <td>TXN_4977031</td>\n",
       "      <td>Cake</td>\n",
       "      <td>4</td>\n",
       "      <td>3</td>\n",
       "      <td>12</td>\n",
       "      <td>Cash</td>\n",
       "      <td>In-store</td>\n",
       "      <td>16/05/2023</td>\n",
       "    </tr>\n",
       "    <tr>\n",
       "      <th>2</th>\n",
       "      <td>TXN_4271903</td>\n",
       "      <td>Cookie</td>\n",
       "      <td>4</td>\n",
       "      <td>1</td>\n",
       "      <td>ERROR</td>\n",
       "      <td>Credit Card</td>\n",
       "      <td>In-store</td>\n",
       "      <td>19/07/2023</td>\n",
       "    </tr>\n",
       "    <tr>\n",
       "      <th>3</th>\n",
       "      <td>TXN_7034554</td>\n",
       "      <td>Salad</td>\n",
       "      <td>2</td>\n",
       "      <td>5</td>\n",
       "      <td>10</td>\n",
       "      <td>UNKNOWN</td>\n",
       "      <td>UNKNOWN</td>\n",
       "      <td>27/04/2023</td>\n",
       "    </tr>\n",
       "    <tr>\n",
       "      <th>4</th>\n",
       "      <td>TXN_3160411</td>\n",
       "      <td>Coffee</td>\n",
       "      <td>2</td>\n",
       "      <td>2</td>\n",
       "      <td>4</td>\n",
       "      <td>Digital Wallet</td>\n",
       "      <td>In-store</td>\n",
       "      <td>11/06/2023</td>\n",
       "    </tr>\n",
       "  </tbody>\n",
       "</table>\n",
       "</div>"
      ],
      "text/plain": [
       "  Transaction ID    Item Quantity Price Per Unit Total Spent  Payment Method  \\\n",
       "0    TXN_1961373  Coffee        2              2           4     Credit Card   \n",
       "1    TXN_4977031    Cake        4              3          12            Cash   \n",
       "2    TXN_4271903  Cookie        4              1       ERROR     Credit Card   \n",
       "3    TXN_7034554   Salad        2              5          10         UNKNOWN   \n",
       "4    TXN_3160411  Coffee        2              2           4  Digital Wallet   \n",
       "\n",
       "   Location  Transaction Date  \n",
       "0  Takeaway  08/09/2023 00:00  \n",
       "1  In-store        16/05/2023  \n",
       "2  In-store        19/07/2023  \n",
       "3   UNKNOWN        27/04/2023  \n",
       "4  In-store        11/06/2023  "
      ]
     },
     "execution_count": 62,
     "metadata": {},
     "output_type": "execute_result"
    }
   ],
   "source": [
    "df_data_set.head()"
   ]
  },
  {
   "cell_type": "code",
   "execution_count": 63,
   "metadata": {},
   "outputs": [
    {
     "name": "stdout",
     "output_type": "stream",
     "text": [
      "<class 'pandas.core.frame.DataFrame'>\n",
      "RangeIndex: 10000 entries, 0 to 9999\n",
      "Data columns (total 8 columns):\n",
      " #   Column            Non-Null Count  Dtype \n",
      "---  ------            --------------  ----- \n",
      " 0   Transaction ID    10000 non-null  object\n",
      " 1   Item              9667 non-null   object\n",
      " 2   Quantity          9862 non-null   object\n",
      " 3   Price Per Unit    9821 non-null   object\n",
      " 4   Total Spent       9827 non-null   object\n",
      " 5   Payment Method    7421 non-null   object\n",
      " 6   Location          6735 non-null   object\n",
      " 7   Transaction Date  9841 non-null   object\n",
      "dtypes: object(8)\n",
      "memory usage: 625.1+ KB\n"
     ]
    }
   ],
   "source": [
    "df_data_set.info()"
   ]
  },
  {
   "cell_type": "code",
   "execution_count": 64,
   "metadata": {},
   "outputs": [
    {
     "data": {
      "text/html": [
       "<div>\n",
       "<style scoped>\n",
       "    .dataframe tbody tr th:only-of-type {\n",
       "        vertical-align: middle;\n",
       "    }\n",
       "\n",
       "    .dataframe tbody tr th {\n",
       "        vertical-align: top;\n",
       "    }\n",
       "\n",
       "    .dataframe thead th {\n",
       "        text-align: right;\n",
       "    }\n",
       "</style>\n",
       "<table border=\"1\" class=\"dataframe\">\n",
       "  <thead>\n",
       "    <tr style=\"text-align: right;\">\n",
       "      <th></th>\n",
       "      <th>Transaction ID</th>\n",
       "      <th>Item</th>\n",
       "      <th>Quantity</th>\n",
       "      <th>Price Per Unit</th>\n",
       "      <th>Total Spent</th>\n",
       "      <th>Payment Method</th>\n",
       "      <th>Location</th>\n",
       "      <th>Transaction Date</th>\n",
       "    </tr>\n",
       "  </thead>\n",
       "  <tbody>\n",
       "    <tr>\n",
       "      <th>count</th>\n",
       "      <td>10000</td>\n",
       "      <td>9667</td>\n",
       "      <td>9862</td>\n",
       "      <td>9821</td>\n",
       "      <td>9827</td>\n",
       "      <td>7421</td>\n",
       "      <td>6735</td>\n",
       "      <td>9841</td>\n",
       "    </tr>\n",
       "    <tr>\n",
       "      <th>unique</th>\n",
       "      <td>10000</td>\n",
       "      <td>12</td>\n",
       "      <td>7</td>\n",
       "      <td>8</td>\n",
       "      <td>19</td>\n",
       "      <td>5</td>\n",
       "      <td>5</td>\n",
       "      <td>381</td>\n",
       "    </tr>\n",
       "    <tr>\n",
       "      <th>top</th>\n",
       "      <td>TXN_9226047</td>\n",
       "      <td>Juice</td>\n",
       "      <td>5</td>\n",
       "      <td>3</td>\n",
       "      <td>6</td>\n",
       "      <td>Digital Wallet</td>\n",
       "      <td>Takeaway</td>\n",
       "      <td>UNKNOWN</td>\n",
       "    </tr>\n",
       "    <tr>\n",
       "      <th>freq</th>\n",
       "      <td>1</td>\n",
       "      <td>1171</td>\n",
       "      <td>2013</td>\n",
       "      <td>2429</td>\n",
       "      <td>979</td>\n",
       "      <td>2291</td>\n",
       "      <td>3021</td>\n",
       "      <td>159</td>\n",
       "    </tr>\n",
       "  </tbody>\n",
       "</table>\n",
       "</div>"
      ],
      "text/plain": [
       "       Transaction ID   Item Quantity Price Per Unit Total Spent  \\\n",
       "count           10000   9667     9862           9821        9827   \n",
       "unique          10000     12        7              8          19   \n",
       "top       TXN_9226047  Juice        5              3           6   \n",
       "freq                1   1171     2013           2429         979   \n",
       "\n",
       "        Payment Method  Location Transaction Date  \n",
       "count             7421      6735             9841  \n",
       "unique               5         5              381  \n",
       "top     Digital Wallet  Takeaway          UNKNOWN  \n",
       "freq              2291      3021              159  "
      ]
     },
     "execution_count": 64,
     "metadata": {},
     "output_type": "execute_result"
    }
   ],
   "source": [
    "df_data_set.describe()"
   ]
  },
  {
   "cell_type": "markdown",
   "metadata": {},
   "source": [
    "### Limpiar DataFrame"
   ]
  },
  {
   "cell_type": "code",
   "execution_count": null,
   "metadata": {},
   "outputs": [],
   "source": [
    "def clean_df(df):\n",
    "    \"\"\"\n",
    "    Convierte las columnas de tipo object al tipo de dato adecuado para cada\n",
    "    columna del DataFrame.\n",
    "    \"\"\"\n",
    "\n",
    "    # Quantity a numeric\n",
    "    df[[\"Quantity\", \"Price Per Unit\", \"Total Spent\"]] = df[\n",
    "        [\"Quantity\", \"Price Per Unit\", \"Total Spent\"]\n",
    "    ].apply(pd.to_numeric, errors=\"coerce\")\n",
    "\n",
    "    # Transaction Date, reemplaza los valores a NaT\n",
    "    df[\"Transaction Date\"] = df[\"Transaction Date\"].replace(\n",
    "        {\"UNKNOWN\": pd.NaT, \"ERROR\": pd.NaT}\n",
    "    )\n",
    "    # Transaction Date a datetime\n",
    "    df[\"Transaction Date\"] = pd.to_datetime(\n",
    "        df[\"Transaction Date\"], format=\"mixed\", errors=\"coerce\"\n",
    "    )\n",
    "    # Transaction Date usa FFill para llenar fechas faltantes (NaT)\n",
    "    df[\"Transaction Date\"] = df[\"Transaction Date\"].ffill()\n",
    "    df[\"Transaction Date\"] = df[\"Transaction Date\"].dt.normalize()\n",
    "\n",
    "    # Payment Method y Location reemplaza Unknown y Error con NA\n",
    "    df[[\"Payment Method\", \"Location\"]] = (\n",
    "        df[[\"Payment Method\", \"Location\"]]\n",
    "        .replace({\"UNKNOWN\": pd.NA, \"ERROR\": pd.NA})\n",
    "        .apply(lambda x: x.str.strip())\n",
    "    )\n",
    "    # Convierte a Nulos valores invalidos, elimina espacios\n",
    "    df[\"Item\"] = (\n",
    "        df[\"Item\"].replace({\"\": np.nan, \"UNKNOWN\": np.nan, \"ERROR\": np.nan}).str.strip()\n",
    "    )\n",
    "    # Solo toma en cuenta las filas donde existan mas de dos datos\n",
    "    df = df[\n",
    "        df[[\"Item\", \"Quantity\", \"Price Per Unit\", \"Total Spent\"]].isna().sum(axis=1) < 3\n",
    "    ]\n",
    "    return df"
   ]
  },
  {
   "cell_type": "code",
   "execution_count": 66,
   "metadata": {},
   "outputs": [],
   "source": [
    "# Aplicamos la funcion clean_df()\n",
    "df = clean_df(df_data_set)"
   ]
  },
  {
   "cell_type": "code",
   "execution_count": 67,
   "metadata": {},
   "outputs": [
    {
     "data": {
      "text/html": [
       "<div>\n",
       "<style scoped>\n",
       "    .dataframe tbody tr th:only-of-type {\n",
       "        vertical-align: middle;\n",
       "    }\n",
       "\n",
       "    .dataframe tbody tr th {\n",
       "        vertical-align: top;\n",
       "    }\n",
       "\n",
       "    .dataframe thead th {\n",
       "        text-align: right;\n",
       "    }\n",
       "</style>\n",
       "<table border=\"1\" class=\"dataframe\">\n",
       "  <thead>\n",
       "    <tr style=\"text-align: right;\">\n",
       "      <th></th>\n",
       "      <th>Transaction ID</th>\n",
       "      <th>Item</th>\n",
       "      <th>Quantity</th>\n",
       "      <th>Price Per Unit</th>\n",
       "      <th>Total Spent</th>\n",
       "      <th>Payment Method</th>\n",
       "      <th>Location</th>\n",
       "      <th>Transaction Date</th>\n",
       "    </tr>\n",
       "  </thead>\n",
       "  <tbody>\n",
       "    <tr>\n",
       "      <th>0</th>\n",
       "      <td>TXN_1961373</td>\n",
       "      <td>Coffee</td>\n",
       "      <td>2.0</td>\n",
       "      <td>2.0</td>\n",
       "      <td>4.0</td>\n",
       "      <td>Credit Card</td>\n",
       "      <td>Takeaway</td>\n",
       "      <td>2023-08-09</td>\n",
       "    </tr>\n",
       "    <tr>\n",
       "      <th>1</th>\n",
       "      <td>TXN_4977031</td>\n",
       "      <td>Cake</td>\n",
       "      <td>4.0</td>\n",
       "      <td>3.0</td>\n",
       "      <td>12.0</td>\n",
       "      <td>Cash</td>\n",
       "      <td>In-store</td>\n",
       "      <td>2023-05-16</td>\n",
       "    </tr>\n",
       "    <tr>\n",
       "      <th>2</th>\n",
       "      <td>TXN_4271903</td>\n",
       "      <td>Cookie</td>\n",
       "      <td>4.0</td>\n",
       "      <td>1.0</td>\n",
       "      <td>NaN</td>\n",
       "      <td>Credit Card</td>\n",
       "      <td>In-store</td>\n",
       "      <td>2023-07-19</td>\n",
       "    </tr>\n",
       "    <tr>\n",
       "      <th>3</th>\n",
       "      <td>TXN_7034554</td>\n",
       "      <td>Salad</td>\n",
       "      <td>2.0</td>\n",
       "      <td>5.0</td>\n",
       "      <td>10.0</td>\n",
       "      <td>&lt;NA&gt;</td>\n",
       "      <td>&lt;NA&gt;</td>\n",
       "      <td>2023-04-27</td>\n",
       "    </tr>\n",
       "    <tr>\n",
       "      <th>4</th>\n",
       "      <td>TXN_3160411</td>\n",
       "      <td>Coffee</td>\n",
       "      <td>2.0</td>\n",
       "      <td>2.0</td>\n",
       "      <td>4.0</td>\n",
       "      <td>Digital Wallet</td>\n",
       "      <td>In-store</td>\n",
       "      <td>2023-11-06</td>\n",
       "    </tr>\n",
       "  </tbody>\n",
       "</table>\n",
       "</div>"
      ],
      "text/plain": [
       "  Transaction ID    Item  Quantity  Price Per Unit  Total Spent  \\\n",
       "0    TXN_1961373  Coffee       2.0             2.0          4.0   \n",
       "1    TXN_4977031    Cake       4.0             3.0         12.0   \n",
       "2    TXN_4271903  Cookie       4.0             1.0          NaN   \n",
       "3    TXN_7034554   Salad       2.0             5.0         10.0   \n",
       "4    TXN_3160411  Coffee       2.0             2.0          4.0   \n",
       "\n",
       "   Payment Method  Location Transaction Date  \n",
       "0     Credit Card  Takeaway       2023-08-09  \n",
       "1            Cash  In-store       2023-05-16  \n",
       "2     Credit Card  In-store       2023-07-19  \n",
       "3            <NA>      <NA>       2023-04-27  \n",
       "4  Digital Wallet  In-store       2023-11-06  "
      ]
     },
     "execution_count": 67,
     "metadata": {},
     "output_type": "execute_result"
    }
   ],
   "source": [
    "df.head()"
   ]
  },
  {
   "cell_type": "markdown",
   "metadata": {},
   "source": [
    "### Obtener Payment Method,\tLocation"
   ]
  },
  {
   "cell_type": "code",
   "execution_count": 68,
   "metadata": {},
   "outputs": [
    {
     "data": {
      "text/plain": [
       "Location          3958\n",
       "Payment Method    3175\n",
       "dtype: int64"
      ]
     },
     "execution_count": 68,
     "metadata": {},
     "output_type": "execute_result"
    }
   ],
   "source": [
    "# Verificar los valores NaN\n",
    "df[['Location', 'Payment Method']].isna().sum()"
   ]
  },
  {
   "cell_type": "code",
   "execution_count": 69,
   "metadata": {},
   "outputs": [
    {
     "data": {
      "text/plain": [
       "{'Takeaway': 0.5006626905235255, 'In-store': 0.4993373094764745}"
      ]
     },
     "execution_count": 69,
     "metadata": {},
     "output_type": "execute_result"
    }
   ],
   "source": [
    "# Calcular proporciones de valores conocidos en 'Location'\n",
    "location_counts = df['Location'].value_counts(normalize=True) # Proporciones\n",
    "location_known = location_counts.to_dict()\n",
    "location_known"
   ]
  },
  {
   "cell_type": "code",
   "execution_count": 70,
   "metadata": {},
   "outputs": [
    {
     "data": {
      "text/plain": [
       "{'Digital Wallet': 0.33582636750256634,\n",
       " 'Credit Card': 0.3330400351957765,\n",
       " 'Cash': 0.33113359730165715}"
      ]
     },
     "execution_count": 70,
     "metadata": {},
     "output_type": "execute_result"
    }
   ],
   "source": [
    "#  Calcular proporciones de valores conocidos en 'Payment Method'\n",
    "payment_counts = df['Payment Method'].value_counts(normalize=True)\n",
    "payment_known = payment_counts.to_dict()\n",
    "payment_known"
   ]
  },
  {
   "cell_type": "code",
   "execution_count": 71,
   "metadata": {},
   "outputs": [],
   "source": [
    "def fill_na_proportionally(column, known_proportions):\n",
    "    \"\"\"\n",
    "    Esta funcion rellena proporcionalmete los valores faltantes\n",
    "    usando una proporcion con los datos ya existentes donde no es NaN\n",
    "    \n",
    "    \"\"\"\n",
    "    # Filtra valores NaN y los cuenta\n",
    "    nan_mask = column.isna() \n",
    "    num_missing = nan_mask.sum()  # Cantidad de valores Nulos\n",
    "    \n",
    "    # Si no hay Nulos, devolver la columna sin cambios\n",
    "    \n",
    "    if num_missing == 0:\n",
    "        return column  \n",
    "    \n",
    "    # Asignar valores faltantes proporcionalmente usando np.random\n",
    "    fill_values = np.random.choice(  \n",
    "        list(known_proportions.keys()), \n",
    "        size=num_missing,  \n",
    "        p=list(known_proportions.values()) \n",
    "    )\n",
    "    \n",
    "    # Rellenar los NaNs con los valores generados\n",
    "    column.loc[nan_mask] = fill_values\n",
    "    return column"
   ]
  },
  {
   "cell_type": "code",
   "execution_count": 72,
   "metadata": {},
   "outputs": [],
   "source": [
    "# Aplicar la función a las columnas con valores faltantes\n",
    "df.loc[:, \"Location\"] = fill_na_proportionally(df[\"Location\"].copy(), location_known)\n",
    "df.loc[:, \"Payment Method\"] = fill_na_proportionally(\n",
    "    df[\"Payment Method\"].copy(), payment_known\n",
    ")"
   ]
  },
  {
   "cell_type": "code",
   "execution_count": 73,
   "metadata": {},
   "outputs": [
    {
     "data": {
      "text/plain": [
       "Location          0\n",
       "Payment Method    0\n",
       "dtype: int64"
      ]
     },
     "execution_count": 73,
     "metadata": {},
     "output_type": "execute_result"
    }
   ],
   "source": [
    "df[['Location', 'Payment Method']].isna().sum()"
   ]
  },
  {
   "cell_type": "markdown",
   "metadata": {},
   "source": [
    "### Obtener Item,\tQuantity,\tPrice Per Unit,\tTotal Spent\t"
   ]
  },
  {
   "cell_type": "code",
   "execution_count": 74,
   "metadata": {},
   "outputs": [
    {
     "data": {
      "text/plain": [
       "np.int64(963)"
      ]
     },
     "execution_count": 74,
     "metadata": {},
     "output_type": "execute_result"
    }
   ],
   "source": [
    "df['Item'].isna().sum()"
   ]
  },
  {
   "cell_type": "code",
   "execution_count": 75,
   "metadata": {},
   "outputs": [],
   "source": [
    "def dict_values(df, groupby_column, mean_column):\n",
    "    \"\"\"\n",
    "    Recibe un DataFrame.\n",
    "    Devuelve dos diccionarios:\n",
    "    El primer grupando el \"Item\" y su precio\n",
    "    El segundo por \"Price Per Unit\".\n",
    "    \"\"\"\n",
    "    # Agrupa por valores de una columna\n",
    "    # Obtiene de otra columna el promedio de cada una de ellas\n",
    "    item_values = df.groupby(groupby_column)[mean_column].mean()\n",
    "    item_price_dict = item_values.to_dict()  # Convierte a Diccionario\n",
    "    \n",
    "    # Crea a la inversa para que ahora el valor sea la clave del diccionario\n",
    "    price_item_dict = {price: item for item, price in item_price_dict.items()}\n",
    "    \n",
    "    return item_price_dict, price_item_dict"
   ]
  },
  {
   "cell_type": "code",
   "execution_count": 76,
   "metadata": {},
   "outputs": [],
   "source": [
    "# Obtiene los diccionarios con la funcion dict_values()\n",
    "item_price_dict, price_item_dict = dict_values(df, 'Item', 'Price Per Unit')"
   ]
  },
  {
   "cell_type": "code",
   "execution_count": 77,
   "metadata": {},
   "outputs": [
    {
     "data": {
      "text/plain": [
       "({'Cake': 3.0,\n",
       "  'Coffee': 2.0,\n",
       "  'Cookie': 1.0,\n",
       "  'Juice': 3.0,\n",
       "  'Salad': 5.0,\n",
       "  'Sandwich': 4.0,\n",
       "  'Smoothie': 4.0,\n",
       "  'Tea': 1.5},\n",
       " {3.0: 'Juice',\n",
       "  2.0: 'Coffee',\n",
       "  1.0: 'Cookie',\n",
       "  5.0: 'Salad',\n",
       "  4.0: 'Smoothie',\n",
       "  1.5: 'Tea'})"
      ]
     },
     "execution_count": 77,
     "metadata": {},
     "output_type": "execute_result"
    }
   ],
   "source": [
    "item_price_dict, price_item_dict"
   ]
  },
  {
   "cell_type": "code",
   "execution_count": 78,
   "metadata": {},
   "outputs": [],
   "source": [
    "def get_sells(df, item_dict, price_dict):\n",
    "    \"\"\"\n",
    "    Rellena datos nulos o faltantes segun una serie de condiciones.\n",
    "    Devuelve un DataFrame.\n",
    "    \"\"\"\n",
    "    # Item y Price Per Unit son nulos \n",
    "    df.loc[df[\"Item\"].isna() & df[\"Price Per Unit\"].isna(), \"Price Per Unit\"] = (\n",
    "        df[\"Total Spent\"] / df[\"Quantity\"]\n",
    "    )\n",
    "\n",
    "    # Item es nulo, Price Per Unit no lo es\n",
    "    df.loc[df[\"Item\"].isna() & df[\"Price Per Unit\"].notna(), \"Item\"] = df[\n",
    "        \"Price Per Unit\" # 3 y 4 es un valor repetido, por lo que diccionario no lo manejara\n",
    "    ].map(lambda x: price_dict.get(x) if x != [3.0, 4.0] else None) \n",
    "    \n",
    "    # Solucionar doble valor de 3\n",
    "    item_values_three = df[df[\"Item\"].isin([\"Cake\", \"Juice\"])][\"Item\"].value_counts(normalize=True)\n",
    "    item_known = item_values_three.to_dict()\n",
    "    \n",
    "    # Usando la funcion fill_na_proportionally\n",
    "    df.loc[:, \"Item\"] = fill_na_proportionally(\n",
    "    df[\"Item\"].copy(), item_known\n",
    "    )\n",
    "    \n",
    "    # Doble valor de 4\n",
    "    item_values_four= df[df[\"Item\"].isin([\"Sandwich\", \"Smoothie\"])][\"Item\"].value_counts(normalize=True)\n",
    "    item_known_ = item_values_four.to_dict()\n",
    "    \n",
    "    # Usando la funcion fill_na_proportionally\n",
    "    df.loc[:, \"Item\"] = fill_na_proportionally(\n",
    "    df[\"Item\"].copy(), item_known_\n",
    "    )\n",
    "    \n",
    "    # Item no es nulo, Price Per Unit no es nulo\n",
    "    df.loc[df[\"Item\"].notna() & df[\"Price Per Unit\"].isna(), \"Price Per Unit\"] = df[\n",
    "        \"Item\"\n",
    "    ].map(item_dict)\n",
    "\n",
    "    # Quantity no es nulo, Total Spent si es Nulo\n",
    "    df.loc[df[\"Quantity\"].notna() & df[\"Total Spent\"].isna(), \"Total Spent\"] = (\n",
    "        df[\"Quantity\"] * df[\"Price Per Unit\"]   \n",
    "    )\n",
    "    \n",
    "    # Quantity es nulo, Total Spent no es nulo\n",
    "    df.loc[df[\"Quantity\"].isna() & df[\"Total Spent\"].notna(), \"Quantity\"] = (\n",
    "        df[\"Total Spent\"] / df[\"Price Per Unit\"]\n",
    "    )\n",
    "    return df"
   ]
  },
  {
   "cell_type": "code",
   "execution_count": 79,
   "metadata": {},
   "outputs": [],
   "source": [
    "# Obtiene el DataFrame con los datos completos\n",
    "df= get_sells(df, item_price_dict, price_item_dict)"
   ]
  },
  {
   "cell_type": "code",
   "execution_count": 80,
   "metadata": {},
   "outputs": [
    {
     "data": {
      "text/plain": [
       "np.int64(0)"
      ]
     },
     "execution_count": 80,
     "metadata": {},
     "output_type": "execute_result"
    }
   ],
   "source": [
    "df['Item'].isna().sum()"
   ]
  },
  {
   "cell_type": "markdown",
   "metadata": {},
   "source": [
    "## Final"
   ]
  },
  {
   "cell_type": "code",
   "execution_count": 81,
   "metadata": {},
   "outputs": [],
   "source": [
    "# Se obtiene el promedio de Quantity\n",
    "quantity_mean = df['Quantity'].mean().round()\n",
    "\n",
    "# Se agrega para rellenar filas, donde solo hay Quantity\n",
    "\n",
    "df.loc[df[\"Quantity\"].isna() & df[\"Total Spent\"].isna(), \"Quantity\"] = df[\n",
    "    \"Quantity\"\n",
    "].fillna(quantity_mean)"
   ]
  },
  {
   "cell_type": "code",
   "execution_count": 82,
   "metadata": {},
   "outputs": [],
   "source": [
    "# Se aplica la funcion get_datos()\n",
    "df= get_sells(df, item_price_dict, price_item_dict)"
   ]
  },
  {
   "cell_type": "code",
   "execution_count": 83,
   "metadata": {},
   "outputs": [
    {
     "data": {
      "text/plain": [
       "Transaction ID      0\n",
       "Item                0\n",
       "Quantity            0\n",
       "Price Per Unit      0\n",
       "Total Spent         0\n",
       "Payment Method      0\n",
       "Location            0\n",
       "Transaction Date    0\n",
       "dtype: int64"
      ]
     },
     "execution_count": 83,
     "metadata": {},
     "output_type": "execute_result"
    }
   ],
   "source": [
    "df.isnull().sum()"
   ]
  },
  {
   "cell_type": "code",
   "execution_count": 84,
   "metadata": {},
   "outputs": [],
   "source": [
    "# Por la cantidad y tipo de datos que no se han podido obtener\n",
    "# Aplique un dropna\n",
    "df = df.dropna(subset=['Item'])"
   ]
  },
  {
   "cell_type": "code",
   "execution_count": 85,
   "metadata": {},
   "outputs": [
    {
     "data": {
      "text/plain": [
       "Transaction ID      0\n",
       "Item                0\n",
       "Quantity            0\n",
       "Price Per Unit      0\n",
       "Total Spent         0\n",
       "Payment Method      0\n",
       "Location            0\n",
       "Transaction Date    0\n",
       "dtype: int64"
      ]
     },
     "execution_count": 85,
     "metadata": {},
     "output_type": "execute_result"
    }
   ],
   "source": [
    "df.isnull().sum()"
   ]
  },
  {
   "cell_type": "code",
   "execution_count": 86,
   "metadata": {},
   "outputs": [
    {
     "name": "stdout",
     "output_type": "stream",
     "text": [
      "<class 'pandas.core.frame.DataFrame'>\n",
      "Index: 9994 entries, 0 to 9999\n",
      "Data columns (total 8 columns):\n",
      " #   Column            Non-Null Count  Dtype         \n",
      "---  ------            --------------  -----         \n",
      " 0   Transaction ID    9994 non-null   object        \n",
      " 1   Item              9994 non-null   object        \n",
      " 2   Quantity          9994 non-null   float64       \n",
      " 3   Price Per Unit    9994 non-null   float64       \n",
      " 4   Total Spent       9994 non-null   float64       \n",
      " 5   Payment Method    9994 non-null   object        \n",
      " 6   Location          9994 non-null   object        \n",
      " 7   Transaction Date  9994 non-null   datetime64[ns]\n",
      "dtypes: datetime64[ns](1), float64(3), object(4)\n",
      "memory usage: 960.7+ KB\n"
     ]
    }
   ],
   "source": [
    "df.info()"
   ]
  },
  {
   "cell_type": "markdown",
   "metadata": {},
   "source": [
    "### Convertir a formato xlsx"
   ]
  },
  {
   "cell_type": "code",
   "execution_count": 88,
   "metadata": {},
   "outputs": [],
   "source": [
    "df.to_excel('resultado_python.xlsx', index = False)"
   ]
  }
 ],
 "metadata": {
  "kernelspec": {
   "display_name": ".venv",
   "language": "python",
   "name": "python3"
  },
  "language_info": {
   "codemirror_mode": {
    "name": "ipython",
    "version": 3
   },
   "file_extension": ".py",
   "mimetype": "text/x-python",
   "name": "python",
   "nbconvert_exporter": "python",
   "pygments_lexer": "ipython3",
   "version": "3.11.4"
  }
 },
 "nbformat": 4,
 "nbformat_minor": 2
}
