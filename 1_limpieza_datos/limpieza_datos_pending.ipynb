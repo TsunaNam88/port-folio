{
 "cells": [
  {
   "cell_type": "code",
   "execution_count": 17,
   "metadata": {},
   "outputs": [],
   "source": [
    "import numpy as np\n",
    "import pandas as pd\n",
    "import re"
   ]
  },
  {
   "cell_type": "markdown",
   "metadata": {},
   "source": [
    "al final de la limpieza deberían tener:\n",
    "1. 1120 folios diferentes\n",
    "2. ⁠columna de SKU\n",
    "3. ⁠columna cantidad\n",
    "4. ⁠una columna fecha salida (formato %d/%m/%Y)\n",
    "5. ⁠una columna prioridad (entero)\n",
    "6. ⁠una columna fecha entrada  (formato %d/%m/%Y)\n",
    "\n",
    "HINTS:\n",
    "el punto 4 y 5 pueden sacarlo de la columna priorizado que es una fecha  + dígitos de prioridad"
   ]
  },
  {
   "cell_type": "code",
   "execution_count": 18,
   "metadata": {},
   "outputs": [],
   "source": [
    "def leer_csv(ruta, dtype =None):\n",
    "    df = pd.read_csv(ruta)\n",
    "    print(\"Leido correctamente\")\n",
    "    return df"
   ]
  },
  {
   "cell_type": "code",
   "execution_count": 19,
   "metadata": {},
   "outputs": [
    {
     "name": "stdout",
     "output_type": "stream",
     "text": [
      "Leido correctamente\n"
     ]
    }
   ],
   "source": [
    "\n",
    "ruta = \"C:\\\\Users\\\\tsuda\\\\dataelite\\\\dataelite2024\\\\06_limpieza_datos\\\\limpieza_retos\\\\pending.csv\"\n",
    "dtype = {\"folio\":'str'}\n",
    "df = leer_csv(ruta)\n"
   ]
  },
  {
   "cell_type": "code",
   "execution_count": 20,
   "metadata": {},
   "outputs": [
    {
     "data": {
      "text/plain": [
       "672"
      ]
     },
     "execution_count": 20,
     "metadata": {},
     "output_type": "execute_result"
    }
   ],
   "source": [
    "df['folio'].nunique()"
   ]
  },
  {
   "cell_type": "code",
   "execution_count": 21,
   "metadata": {},
   "outputs": [
    {
     "data": {
      "text/plain": [
       "folio          int64\n",
       "sku           object\n",
       "cantidad       int64\n",
       "priorizado     int64\n",
       "fecha         object\n",
       "dtype: object"
      ]
     },
     "execution_count": 21,
     "metadata": {},
     "output_type": "execute_result"
    }
   ],
   "source": [
    "df.dtypes"
   ]
  },
  {
   "cell_type": "markdown",
   "metadata": {},
   "source": [
    "consejos de programacion defensiva:\n",
    "-Revisar si la columna a usar contiene solo el tipo de valor adecuado (en este caso numericos)\n",
    "-usar try / except por fallos inesperados\n",
    "-revisar valores de fecha \n",
    "-documentacion\n",
    "-volver una funcion"
   ]
  },
  {
   "cell_type": "code",
   "execution_count": 22,
   "metadata": {},
   "outputs": [
    {
     "name": "stdout",
     "output_type": "stream",
     "text": [
      "      folio  sku  cantidad   priorizado                      fecha  \\\n",
      "0      1006  SKU         8  20250121009  2024-12-19 10:25:43-05:00   \n",
      "1      1438  SKU         8  20250121009  2024-12-19 10:25:43-03:00   \n",
      "2      1084  SKU        10  20250117290  2025-01-13 17:50:27-03:00   \n",
      "3      1034  SKU        12  20250117290  2025-01-13 17:50:27-03:00   \n",
      "4      1646  SKU        12  20250117290  2025-01-13 17:50:27-03:00   \n",
      "...     ...  ...       ...          ...                        ...   \n",
      "2243   1055  SKU        24  20250117290  2025-01-13 17:36:00-05:00   \n",
      "2244   1554  SKU        10  20250117290  2025-01-13 17:50:27-03:00   \n",
      "2245   1010  SKU        10  20250117290  2025-01-13 17:50:27-03:00   \n",
      "2246   1120  SKU        20  20250117290  2025-01-13 17:50:27-03:00   \n",
      "2247   1451  SKU        10  20250117290  2025-01-13 17:50:27-05:00   \n",
      "\n",
      "     fecha de salida prioridad  \n",
      "0         21/01/2025       009  \n",
      "1         21/01/2025       009  \n",
      "2         17/01/2025       290  \n",
      "3         17/01/2025       290  \n",
      "4         17/01/2025       290  \n",
      "...              ...       ...  \n",
      "2243      17/01/2025       290  \n",
      "2244      17/01/2025       290  \n",
      "2245      17/01/2025       290  \n",
      "2246      17/01/2025       290  \n",
      "2247      17/01/2025       290  \n",
      "\n",
      "[2248 rows x 7 columns]\n"
     ]
    },
    {
     "name": "stderr",
     "output_type": "stream",
     "text": [
      "C:\\Users\\tsuda\\AppData\\Local\\Temp\\ipykernel_18472\\498888121.py:6: FutureWarning: In a future version of pandas, parsing datetimes with mixed time zones will raise an error unless `utc=True`. Please specify `utc=True` to opt in to the new behaviour and silence this warning. To create a `Series` with mixed offsets and `object` dtype, please use `apply` and `datetime.datetime.strptime`\n",
      "  df[\"fecha\"] = pd.to_datetime(df[\"fecha\"], format = \"%a %b %d %Y %H:%M:%S %z\", errors= \"coerce\")\n"
     ]
    }
   ],
   "source": [
    "df[\"fecha\"] = (df[\"fecha\"]\n",
    " .str.replace(r\"\\(.*?\\)\", \"\", regex=True)\n",
    " .str.replace(r\"GMT([+\\-]\\d{2})(\\d{2})\", r\"\\1:\\2\", regex=True)\n",
    " .str.strip() \n",
    ")\n",
    "df[\"fecha\"] = pd.to_datetime(df[\"fecha\"], format = \"%a %b %d %Y %H:%M:%S %z\", errors= \"coerce\")\n",
    "#df[\"fecha de entrada\"] = df[\"fecha\"].apply(extraer_fecha) --> NO USAR APPLY\n",
    "\n",
    "#divide la columna \"priorizado\", convierte la columna a str para dividir los valores\n",
    "#convierte los valores en formato datetime y despues a formato %d/%m/%Y (strftime)\n",
    "\n",
    "df[\"priorizado\"] = df[\"priorizado\"].astype(str)\n",
    "df[\"fecha de salida\"] = pd.to_datetime(df[\"priorizado\"].str[:8], format ='%Y%m%d').dt.strftime('%d/%m/%Y')\n",
    "df[\"prioridad\"] = df[\"priorizado\"].str[-3:]\n",
    "\n",
    "print(df)"
   ]
  },
  {
   "cell_type": "code",
   "execution_count": 23,
   "metadata": {},
   "outputs": [
    {
     "name": "stdout",
     "output_type": "stream",
     "text": [
      "Archivo CSV guardado correctamente en C:\\Users\\tsuda\\dataelite\\dataelite2024\\06_limpieza_datos\\limpieza_retos\\resultado.csv\n"
     ]
    }
   ],
   "source": [
    "def guardar_csv(df, ruta_csv):\n",
    "    try:\n",
    "        # Guardar dataframe anterior\n",
    "        df.to_csv(ruta_csv, index=False, encoding='utf-8') \n",
    "        print(f\"Archivo CSV guardado correctamente en {ruta_csv}\")\n",
    "    except Exception as e:\n",
    "        print(f\"Error al guardar el archivo CSV: {e}\")\n",
    "        return None\n",
    "\n",
    "df = df\n",
    "ruta_csv = \"C:\\\\Users\\\\tsuda\\\\dataelite\\\\dataelite2024\\\\06_limpieza_datos\\\\limpieza_retos\\\\resultado.csv\"\n",
    "guardar_csv(df, ruta_csv)"
   ]
  }
 ],
 "metadata": {
  "kernelspec": {
   "display_name": "venv",
   "language": "python",
   "name": "python3"
  },
  "language_info": {
   "codemirror_mode": {
    "name": "ipython",
    "version": 3
   },
   "file_extension": ".py",
   "mimetype": "text/x-python",
   "name": "python",
   "nbconvert_exporter": "python",
   "pygments_lexer": "ipython3",
   "version": "3.11.4"
  }
 },
 "nbformat": 4,
 "nbformat_minor": 2
}
