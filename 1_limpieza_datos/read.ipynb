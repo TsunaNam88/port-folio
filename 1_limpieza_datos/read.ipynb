{
 "cells": [
  {
   "cell_type": "code",
   "execution_count": 22,
   "metadata": {},
   "outputs": [],
   "source": [
    "import pandas as pd"
   ]
  },
  {
   "cell_type": "code",
   "execution_count": 23,
   "metadata": {},
   "outputs": [],
   "source": [
    "df = pd.read_csv(\"C:\\\\Users\\\\tsuda\\\\dataelite\\\\dataelite2025\\\\Tsuna_practicas\\\\productos_farmaceuticos.csv\")"
   ]
  },
  {
   "cell_type": "code",
   "execution_count": 24,
   "metadata": {},
   "outputs": [
    {
     "data": {
      "text/html": [
       "<div>\n",
       "<style scoped>\n",
       "    .dataframe tbody tr th:only-of-type {\n",
       "        vertical-align: middle;\n",
       "    }\n",
       "\n",
       "    .dataframe tbody tr th {\n",
       "        vertical-align: top;\n",
       "    }\n",
       "\n",
       "    .dataframe thead th {\n",
       "        text-align: right;\n",
       "    }\n",
       "</style>\n",
       "<table border=\"1\" class=\"dataframe\">\n",
       "  <thead>\n",
       "    <tr style=\"text-align: right;\">\n",
       "      <th></th>\n",
       "      <th>pedido</th>\n",
       "      <th>producto_id</th>\n",
       "      <th>cantidad_solicitada</th>\n",
       "      <th>cantidad_devuelta</th>\n",
       "      <th>fecha_pedido</th>\n",
       "      <th>cliente_id</th>\n",
       "      <th>zona</th>\n",
       "      <th>vendedor_id</th>\n",
       "      <th>precio_unitario</th>\n",
       "      <th>pago</th>\n",
       "      <th>importado</th>\n",
       "    </tr>\n",
       "  </thead>\n",
       "  <tbody>\n",
       "    <tr>\n",
       "      <th>0</th>\n",
       "      <td>20180507VBPN</td>\n",
       "      <td>JXC1415</td>\n",
       "      <td>1.0</td>\n",
       "      <td>0</td>\n",
       "      <td>2018-05-28</td>\n",
       "      <td>CLIN0976</td>\n",
       "      <td>Noreste</td>\n",
       "      <td>969991</td>\n",
       "      <td>11146.0</td>\n",
       "      <td>Revolvente</td>\n",
       "      <td>True</td>\n",
       "    </tr>\n",
       "    <tr>\n",
       "      <th>1</th>\n",
       "      <td>20150150ZEFW</td>\n",
       "      <td>EMR8486</td>\n",
       "      <td>14.0</td>\n",
       "      <td>0</td>\n",
       "      <td>2015-01-27</td>\n",
       "      <td>CLIN6814</td>\n",
       "      <td>Noreste</td>\n",
       "      <td>380530</td>\n",
       "      <td>924.0</td>\n",
       "      <td>Credito</td>\n",
       "      <td>True</td>\n",
       "    </tr>\n",
       "    <tr>\n",
       "      <th>2</th>\n",
       "      <td>20170283YCDK</td>\n",
       "      <td>PKV5113</td>\n",
       "      <td>25.0</td>\n",
       "      <td>0</td>\n",
       "      <td>2017-02-17</td>\n",
       "      <td>CLIN0582</td>\n",
       "      <td>Centro</td>\n",
       "      <td>727283</td>\n",
       "      <td>2647.0</td>\n",
       "      <td>Credito</td>\n",
       "      <td>False</td>\n",
       "    </tr>\n",
       "    <tr>\n",
       "      <th>3</th>\n",
       "      <td>20170866RLCO</td>\n",
       "      <td>WEA0146</td>\n",
       "      <td>8.0</td>\n",
       "      <td>0</td>\n",
       "      <td>2017-08-30</td>\n",
       "      <td>MED2407</td>\n",
       "      <td>Sur</td>\n",
       "      <td>579308</td>\n",
       "      <td>1740.0</td>\n",
       "      <td>Credito</td>\n",
       "      <td>False</td>\n",
       "    </tr>\n",
       "    <tr>\n",
       "      <th>4</th>\n",
       "      <td>20140957NQIV</td>\n",
       "      <td>TMO2924</td>\n",
       "      <td>4.0</td>\n",
       "      <td>0</td>\n",
       "      <td>2014-09-28</td>\n",
       "      <td>MED4970</td>\n",
       "      <td>Sur</td>\n",
       "      <td>579308</td>\n",
       "      <td>7319.0</td>\n",
       "      <td>Credito</td>\n",
       "      <td>False</td>\n",
       "    </tr>\n",
       "  </tbody>\n",
       "</table>\n",
       "</div>"
      ],
      "text/plain": [
       "         pedido producto_id  cantidad_solicitada  cantidad_devuelta  \\\n",
       "0  20180507VBPN     JXC1415                  1.0                  0   \n",
       "1  20150150ZEFW     EMR8486                 14.0                  0   \n",
       "2  20170283YCDK     PKV5113                 25.0                  0   \n",
       "3  20170866RLCO     WEA0146                  8.0                  0   \n",
       "4  20140957NQIV     TMO2924                  4.0                  0   \n",
       "\n",
       "  fecha_pedido cliente_id     zona  vendedor_id  precio_unitario        pago  \\\n",
       "0   2018-05-28   CLIN0976  Noreste       969991          11146.0  Revolvente   \n",
       "1   2015-01-27   CLIN6814  Noreste       380530            924.0     Credito   \n",
       "2   2017-02-17   CLIN0582   Centro       727283           2647.0     Credito   \n",
       "3   2017-08-30    MED2407      Sur       579308           1740.0     Credito   \n",
       "4   2014-09-28    MED4970      Sur       579308           7319.0     Credito   \n",
       "\n",
       "   importado  \n",
       "0       True  \n",
       "1       True  \n",
       "2      False  \n",
       "3      False  \n",
       "4      False  "
      ]
     },
     "execution_count": 24,
     "metadata": {},
     "output_type": "execute_result"
    }
   ],
   "source": [
    "df.head()"
   ]
  },
  {
   "cell_type": "code",
   "execution_count": 25,
   "metadata": {},
   "outputs": [
    {
     "data": {
      "text/plain": [
       "pedido                  object\n",
       "producto_id             object\n",
       "cantidad_solicitada    float64\n",
       "cantidad_devuelta        int64\n",
       "fecha_pedido            object\n",
       "cliente_id              object\n",
       "zona                    object\n",
       "vendedor_id              int64\n",
       "precio_unitario        float64\n",
       "pago                    object\n",
       "importado                 bool\n",
       "dtype: object"
      ]
     },
     "execution_count": 25,
     "metadata": {},
     "output_type": "execute_result"
    }
   ],
   "source": [
    "df.dtypes"
   ]
  },
  {
   "cell_type": "code",
   "execution_count": 26,
   "metadata": {},
   "outputs": [],
   "source": [
    "df[\"vendedor_id\"] = df[\"vendedor_id\"].astype(str)"
   ]
  },
  {
   "cell_type": "code",
   "execution_count": 27,
   "metadata": {},
   "outputs": [],
   "source": [
    "df[\"fecha_pedido\"] = pd.to_datetime(df[\"fecha_pedido\"])"
   ]
  },
  {
   "cell_type": "code",
   "execution_count": 28,
   "metadata": {},
   "outputs": [
    {
     "data": {
      "text/plain": [
       "pedido                         object\n",
       "producto_id                    object\n",
       "cantidad_solicitada           float64\n",
       "cantidad_devuelta               int64\n",
       "fecha_pedido           datetime64[ns]\n",
       "cliente_id                     object\n",
       "zona                           object\n",
       "vendedor_id                    object\n",
       "precio_unitario               float64\n",
       "pago                           object\n",
       "importado                        bool\n",
       "dtype: object"
      ]
     },
     "execution_count": 28,
     "metadata": {},
     "output_type": "execute_result"
    }
   ],
   "source": [
    "df.dtypes"
   ]
  },
  {
   "cell_type": "code",
   "execution_count": 29,
   "metadata": {},
   "outputs": [],
   "source": [
    "df.to_csv(\"C:\\\\Users\\\\tsuda\\\\dataelite\\\\dataelite2025\\\\10_business_intelligence\\\\Retos\\\\productos_farmaceuticos1.csv\", index=False)"
   ]
  }
 ],
 "metadata": {
  "kernelspec": {
   "display_name": "env_",
   "language": "python",
   "name": "python3"
  },
  "language_info": {
   "codemirror_mode": {
    "name": "ipython",
    "version": 3
   },
   "file_extension": ".py",
   "mimetype": "text/x-python",
   "name": "python",
   "nbconvert_exporter": "python",
   "pygments_lexer": "ipython3",
   "version": "3.11.4"
  }
 },
 "nbformat": 4,
 "nbformat_minor": 2
}
