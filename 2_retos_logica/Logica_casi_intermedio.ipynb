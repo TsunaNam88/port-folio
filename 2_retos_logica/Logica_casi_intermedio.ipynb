{
 "cells": [
  {
   "cell_type": "markdown",
   "metadata": {},
   "source": [
    "# Lógica de programación"
   ]
  },
  {
   "cell_type": "markdown",
   "metadata": {},
   "source": [
    "---\n",
    "\n",
    "## Reto 1: Validación de Paréntesis, Llaves y Corchetes\n",
    "\n",
    "**Objetivo**  \n",
    "Crear una función que verifique si una cadena que contiene paréntesis `()`, llaves `{}`, y corchetes `[]` está **balanceada**. Decimos que la cadena está balanceada si cada símbolo de apertura tiene un símbolo de cierre correspondiente en el orden correcto.\n",
    "\n",
    "**Desafíos**  \n",
    "- Manejar múltiples tipos de símbolos: `()`, `{}`, `[]`.  \n",
    "- Asegurar que el orden de cierre coincida con el último símbolo abierto (estructura tipo pila).  \n",
    "- Retornar `True` si la cadena está correctamente balanceada, o `False` en caso contrario.  \n",
    "- Manejar cadenas vacías (pueden considerarse balanceadas) o cadenas sin símbolos (también balanceadas).\n",
    "\n",
    "**Resultado Esperado**  \n",
    "Una función llamada `is_balanced` que reciba una cadena y devuelva un **booleano** indicando si todos los símbolos están correctamente balanceados.\n",
    "\n",
    "**Ejemplos de uso**:"
   ]
  },
  {
   "cell_type": "code",
   "execution_count": null,
   "metadata": {},
   "outputs": [],
   "source": [
    "is_balanced(\"()[]{}\")      # True\n",
    "is_balanced(\"( [ { } ] )\") # True  (ignorando espacios)\n",
    "is_balanced(\"([)]\")        # False (el orden no corresponde)\n",
    "is_balanced(\"([\")          # False (no se cerró el corchete)\n",
    "is_balanced(\"\")            # True  (no hay símbolos a desbalancear)"
   ]
  },
  {
   "cell_type": "markdown",
   "metadata": {},
   "source": [
    "\n",
    "**Hints**  \n",
    "1. Una pila (stack) es una estructura de datos en la que el último elemento en entrar (append) es el primero en salir (pop). Se conoce como LIFO (Last In, First Out). Imagínalo como una pila de platos: el último que pones encima es el primero que quitas. \n",
    "2. Cuando veas un símbolo de apertura, agrégalo a la pila; cuando veas uno de cierre, verifica si coincide con el último símbolo de apertura (el tope de la pila).  \n",
    "3. Si en algún momento necesitas cerrar un símbolo que no coincide con el último abierto, o si al final quedan símbolos sin cerrar, la cadena no está balanceada.  \n",
    "4. Ignora los espacios o cualquier otro carácter que no sea `(){}[]` si deseas enfocarte solo en los símbolos."
   ]
  },
  {
   "cell_type": "markdown",
   "metadata": {},
   "source": [
    "---\n",
    "\n",
    "## Reto 2: Cálculo Recursivo del Factorial\n",
    "\n",
    "**Objetivo**  \n",
    "Implementar una función que **calcule el factorial** de un número entero de forma recursiva. El factorial de `n` (notado como `n!`) se define como:\n",
    "\n",
    "```\n",
    "n! = n × (n-1) × (n-2) × ... × 2 × 1\n",
    "```\n",
    "con la condición de que `0! = 1`.\n",
    "\n",
    "**Desafíos**  \n",
    "- Manejar el caso base cuando `n = 0`, que debe devolver `1`.\n",
    "- Manejar el caso en que `n < 0` (decidir si arrojar un error o manejarlo de otra forma).\n",
    "- Implementar la lógica usando **recursividad** en lugar de un bucle.\n",
    "\n",
    "**Resultado Esperado**  \n",
    "Una función llamada `factorial_recursive` que reciba un número y devuelva el factorial.\n",
    "\n",
    "**Ejemplo de uso**:"
   ]
  },
  {
   "cell_type": "code",
   "execution_count": null,
   "metadata": {},
   "outputs": [],
   "source": [
    "factorial_recursive(5)  # 120\n",
    "factorial_recursive(0)  # 1"
   ]
  },
  {
   "cell_type": "markdown",
   "metadata": {},
   "source": [
    "**Hints**  \n",
    "- Caso base: `0! = 1`.  \n",
    "- Caso recursivo: `n! = n * (n-1)!`.\n",
    "- Asegúrate de que la recursión termine (caso base) y no se repita indefinidamente."
   ]
  },
  {
   "cell_type": "code",
   "execution_count": null,
   "metadata": {},
   "outputs": [],
   "source": []
  },
  {
   "cell_type": "markdown",
   "metadata": {},
   "source": [
    "---\n",
    "\n",
    "## Reto 3: Hallar la Mayor Racha Consecutiva\n",
    "\n",
    "**Objetivo**  \n",
    "Dada una lista de valores (por ejemplo, `[1, 1, 2, 2, 2, 3, 2, 2]`), encontrar **la longitud de la secuencia consecutiva más larga** de un mismo valor.\n",
    "\n",
    "**Desafíos**  \n",
    "- Recorrer la lista y comparar cada elemento con el anterior para detectar rachas consecutivas.\n",
    "- Llevar un conteo de la racha actual y otra del máximo histórico.\n",
    "- Manejar casos como listas vacías o listas con un solo elemento.\n",
    "\n",
    "**Resultado Esperado**  \n",
    "Una función llamada `longest_streak` que reciba una lista y devuelva la **longitud** (número entero) de la racha consecutiva más extensa.\n",
    "\n",
    "**Ejemplo de uso**:"
   ]
  },
  {
   "cell_type": "code",
   "execution_count": null,
   "metadata": {},
   "outputs": [],
   "source": [
    "longest_streak([1, 1, 2, 2, 2, 3, 2, 2])   # 3  (la racha más larga es \"2, 2, 2\")\n",
    "longest_streak([5, 5, 5, 5])               # 4\n",
    "longest_streak([])                         # 0   (sin elementos, la racha es 0)"
   ]
  },
  {
   "cell_type": "markdown",
   "metadata": {},
   "source": [
    "**Hints**  \n",
    "- Usa una variable para contar la racha actual y otra para la racha máxima.\n",
    "- Cuando el elemento actual sea diferente del anterior, reinicia la racha.\n",
    "- Si la lista está vacía, puedes retornar `0` directamente."
   ]
  },
  {
   "cell_type": "markdown",
   "metadata": {},
   "source": [
    "---\n",
    "\n",
    "## Reto 4: Generar la Secuencia de Fibonacci hasta un Límite\n",
    "\n",
    "**Objetivo**  \n",
    "La **Secuencia de Fibonacci** inicia con 0 y 1, y cada número sucesivo es la suma de los dos anteriores:\n",
    "```\n",
    "0, 1, 1, 2, 3, 5, 8, 13, ...\n",
    "```\n",
    "El reto es crear una función que genere la secuencia de Fibonacci **hasta** que se alcance (o supere) un **límite máximo** dado por parámetro.\n",
    "\n",
    "**Desafíos**  \n",
    "- Empezar la secuencia con `[0, 1]`.\n",
    "- Agregar nuevos números hasta que el siguiente valor supere el límite.\n",
    "- Devolver la lista resultante.\n",
    "\n",
    "**Resultado Esperado**  \n",
    "Una función llamada `fibonacci_sequence` que reciba un número `max_value` y devuelva la **lista** con los valores de Fibonacci que no excedan ese límite.\n",
    "\n",
    "**Ejemplo de uso**:"
   ]
  },
  {
   "cell_type": "code",
   "execution_count": null,
   "metadata": {},
   "outputs": [],
   "source": [
    "fibonacci_sequence(10)  # [0, 1, 1, 2, 3, 5, 8]\n",
    "fibonacci_sequence(1)   # [0, 1, 1]"
   ]
  },
  {
   "cell_type": "markdown",
   "metadata": {},
   "source": [
    "**Hints**  \n",
    "- La siguiente cifra de Fibonacci se obtiene con `prev + current`.\n",
    "- Revisa en cada paso si `prev + current > max_value` para detenerte.\n",
    "- Maneja el caso cuando `max_value` sea < 0 o muy pequeño."
   ]
  },
  {
   "cell_type": "code",
   "execution_count": 14,
   "metadata": {},
   "outputs": [],
   "source": [
    "def fibonacci_sequence(max_value):\n",
    "    sequence = [0, 1]  # Inicializamos con los dos primeros números de Fibonacci\n",
    "    while sequence[-1] + sequence[-2] < max_value:\n",
    "        sequence.append(sequence[-1] + sequence[-2])\n",
    "    return sequence"
   ]
  },
  {
   "cell_type": "code",
   "execution_count": 15,
   "metadata": {},
   "outputs": [
    {
     "data": {
      "text/plain": [
       "[0, 1, 1, 2, 3]"
      ]
     },
     "execution_count": 15,
     "metadata": {},
     "output_type": "execute_result"
    }
   ],
   "source": [
    "fibonacci_sequence(5)"
   ]
  },
  {
   "cell_type": "markdown",
   "metadata": {},
   "source": [
    "\n",
    "---\n",
    "\n",
    "## Reto 5: Conversión de Base Decimal a Binario\n",
    "\n",
    "**Objetivo**  \n",
    "Implementar una función que convierta un número **entero positivo** en base decimal a su representación **binaria** (base 2). Sin usar funciones integradas como `bin()`, de modo que practiques la lógica de la conversión.\n",
    "\n",
    "**Desafíos**  \n",
    "- Manejar el proceso de conversión dividiendo por 2 repetidamente y obteniendo restos.\n",
    "- Asegurarte de construir la cadena binaria en el orden correcto (el **último resto** será el bit más significativo).\n",
    "- Manejar el caso de `0` como entrada.\n",
    "\n",
    "**Resultado Esperado**  \n",
    "Una función llamada `decimal_to_binary` que reciba un número entero y retorne un **string** con la representación binaria.\n",
    "\n",
    "**Ejemplo de uso**:"
   ]
  },
  {
   "cell_type": "code",
   "execution_count": null,
   "metadata": {},
   "outputs": [],
   "source": [
    "decimal_to_binary(5)   # \"101\"\n",
    "decimal_to_binary(10)  # \"1010\"\n",
    "decimal_to_binary(0)   # \"0\""
   ]
  },
  {
   "cell_type": "markdown",
   "metadata": {},
   "source": [
    "**Hints**  \n",
    "- El método tradicional consiste en dividir el número entre 2, tomar el resto (`n % 2`), y luego actualizar `n = n // 2`.\n",
    "- Se va formando la cadena binaria de **atrás hacia adelante**.\n",
    "- Maneja el caso de `n = 0`, devolviendo \"0\" directamente.\n"
   ]
  },
  {
   "cell_type": "code",
   "execution_count": null,
   "metadata": {},
   "outputs": [],
   "source": [
    "def decimal_to_binary(n):\n",
    "    secuence = []\n",
    "    while n != 0:\n",
    "        resto = n%2\n",
    "        n = n//2\n",
    "        secuence.append(resto)\n",
    "    secuence_inv = secuence[::-1]\n",
    "    binario = \"\".join(map(str,secuence_inv))\n",
    "    print(binario)"
   ]
  },
  {
   "cell_type": "code",
   "execution_count": 27,
   "metadata": {},
   "outputs": [
    {
     "name": "stdout",
     "output_type": "stream",
     "text": [
      "1100100\n"
     ]
    }
   ],
   "source": [
    "decimal_to_binary(100)"
   ]
  },
  {
   "cell_type": "code",
   "execution_count": null,
   "metadata": {},
   "outputs": [],
   "source": []
  }
 ],
 "metadata": {
  "kernelspec": {
   "display_name": "Python 3",
   "language": "python",
   "name": "python3"
  },
  "language_info": {
   "codemirror_mode": {
    "name": "ipython",
    "version": 3
   },
   "file_extension": ".py",
   "mimetype": "text/x-python",
   "name": "python",
   "nbconvert_exporter": "python",
   "pygments_lexer": "ipython3",
   "version": "3.11.4"
  }
 },
 "nbformat": 4,
 "nbformat_minor": 2
}
