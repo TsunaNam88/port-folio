{
 "cells": [
  {
   "cell_type": "code",
   "execution_count": 1,
   "metadata": {},
   "outputs": [],
   "source": [
    "import pandas as pd\n",
    "import numpy as np\n",
    "from sqlalchemy import create_engine\n",
    "\n",
    "import pymysql\n",
    "import json\n",
    "import sys"
   ]
  },
  {
   "cell_type": "code",
   "execution_count": 3,
   "metadata": {},
   "outputs": [],
   "source": [
    "# Definir la función para leer las credenciales del archivo JSON\n",
    "def read_keys(archivo_json: str) -> tuple:\n",
    "    try:\n",
    "        # Abrir y leer el archivo JSON\n",
    "        with open(archivo_json, \"r\") as archivo:\n",
    "            credenciales = json.load(archivo)\n",
    "            # Extraer el usuario, password y host\n",
    "            usuario = credenciales[\"usuario\"]\n",
    "            password = credenciales[\"password\"]\n",
    "            host = credenciales[\"host\"]\n",
    "            print(f\"Credenciales leídas correctamente del archivo {archivo_json}\")\n",
    "            # Retornar los valores como una tupla\n",
    "            return usuario, password, host\n",
    "    except FileNotFoundError:\n",
    "        print(f\"Error: No se encontró el archivo de configuración {archivo_json}\")\n",
    "        sys.exit()\n",
    "    except KeyError:\n",
    "        print(f\"Error: El archivo {archivo_json} no tiene el formato esperado.\")\n",
    "        sys.exit()\n",
    "\n"
   ]
  },
  {
   "cell_type": "code",
   "execution_count": 4,
   "metadata": {},
   "outputs": [],
   "source": [
    "# Definir la función para la conexión inicial a MySQL sin especificar la base de datos\n",
    "def init_conn(usuario: str, password: str, host: str) -> tuple:\n",
    "    try:\n",
    "        # Crear la conexión a MySQL\n",
    "        conexion_mysql = pymysql.connect(user=usuario, password=password, host=host)\n",
    "        cursor = conexion_mysql.cursor()\n",
    "        print(f\"Conexión exitosa a MySQL en {host}\")\n",
    "        # Retornar la conexión y el cursor\n",
    "        return conexion_mysql, cursor\n",
    "    except pymysql.connect.Error as err:\n",
    "        print(f\"Error al conectar a MySQL: {err}\")\n",
    "        sys.exit()\n"
   ]
  },
  {
   "cell_type": "code",
   "execution_count": 5,
   "metadata": {},
   "outputs": [],
   "source": [
    "# Crear la base de datos si no existe\n",
    "def crear_base_sql(cursor, conexion_mysql, nombre_base_de_datos):\n",
    "    try:\n",
    "        cursor.execute(f\"CREATE DATABASE IF NOT EXISTS {nombre_base_de_datos}\")\n",
    "        print(f\"Base de datos '{nombre_base_de_datos}' verificada/creada.\")\n",
    "        cursor.close()\n",
    "        conexion_mysql.close()\n",
    "    except pymysql.connect.Error as err:\n",
    "        print(f\"Error al crear la base de datos: {err}\")\n",
    "        cursor.close()\n",
    "        conexion_mysql.close()\n",
    "        sys.exit()\n"
   ]
  },
  {
   "cell_type": "code",
   "execution_count": 9,
   "metadata": {},
   "outputs": [
    {
     "name": "stdout",
     "output_type": "stream",
     "text": [
      "Credenciales leídas correctamente del archivo C:\\Users\\tsuda\\dataelite\\dataelite2024\\04_SQL_basico\\claves.json\n",
      "Conexión exitosa a MySQL en 127.0.0.1\n",
      "Base de datos 'sale_data' verificada/creada.\n",
      "Datos leídos correctamente del archivo CSV: C:\\Users\\tsuda\\dataelite\\dataelite2024\\04_SQL_basico\\src\\dim_shipping_area.csv\n",
      "Datos insertados correctamente en la tabla 'dim_shipping_area' de MySQL.\n"
     ]
    }
   ],
   "source": [
    "def crear_tabla_sql(\n",
    "    usuario: str,\n",
    "    password: str,\n",
    "    host: str,\n",
    "    nombre_base_de_datos: str,\n",
    "    tabla_mysql: str,\n",
    "    archivo_csv: str,\n",
    "):\n",
    "    # Crear la conexión al motor de MySQL con la base de datos especificada\n",
    "    motor = create_engine(\n",
    "        f\"mysql+mysqlconnector://{usuario}:{password}@{host}/{nombre_base_de_datos}\"\n",
    "    )\n",
    "    # Leer el CSV usando pandas\n",
    "    try:\n",
    "        datos_csv = pd.read_csv(\n",
    "            archivo_csv,\n",
    "            sep=\",\",\n",
    "            on_bad_lines=\"skip\",\n",
    "            #parse_dates= [\"creation_date\", \"creator_last_seen_date\",\"receiver_last_seen_date\", \"first_message_date\", \"last_message_date\"]\n",
    "            #parse_dates=[\"Fecha_Nacimiento\",\"Fecha_Nacimiento_Format1\", \"Fecha_Nacimiento_Format2\",\"Fecha_Nacimiento_Format3\"],\n",
    "        )\n",
    "        #columnas_fecha = [\"creation_date\", \"creator_last_seen_date\",\"receiver_last_seen_date\", \"first_message_date\", \"last_message_date\"]\n",
    "        #columnas_fecha = [\"Fecha_Nacimiento\",\"Fecha_Nacimiento_Format1\", \"Fecha_Nacimiento_Format2\",\"Fecha_Nacimiento_Format3\"]\n",
    "        #columnas_lenght = [\"creator_average_message_length\",\"average_message_length\",\"receiver_messages_length\", \"receiver_average_message_length\"]\n",
    "    #Usar pandas para las fechas\n",
    "        #for columna in columnas_fecha:\n",
    "        #    datos_csv[columna] = pd.to_datetime(\n",
    "        #        datos_csv[columna], format=\"ISO8601\", errors = \"coerce\"\n",
    "        #)\n",
    "    #usar pandas para los numeros inf\n",
    "        #for columna in columnas_lenght:\n",
    "        #    datos_csv[columna] = datos_csv[columna].replace([np.inf, -np.inf], np.nan)\n",
    "        #for columna in columnas_lenght:\n",
    "        #    datos_csv[columna] = pd.to_numeric(datos_csv[columna], errors = \"coerce\")\n",
    "        \n",
    "        print(f\"Datos leídos correctamente del archivo CSV: {archivo_csv}\")\n",
    "    except FileNotFoundError:\n",
    "        print(f\"Error: El archivo CSV no se encuentra en la ruta: {archivo_csv}\")\n",
    "        sys.exit()\n",
    "    # Insertar datos en la tabla MySQL\n",
    "    try:\n",
    "        datos_csv.to_sql(tabla_mysql, con=motor, if_exists=\"replace\", index=False)\n",
    "        print(f\"Datos insertados correctamente en la tabla '{tabla_mysql}' de MySQL.\")\n",
    "    except Exception as e:\n",
    "        print(f\"Error al insertar los datos en MySQL: {str(e)}\")\n",
    "\n",
    "\n",
    "if __name__ == \"__main__\":\n",
    "    # Ruta del archivo JSON con las credenciales\n",
    "    archivo_json = \"C:\\\\Users\\\\tsuda\\\\dataelite\\\\dataelite2024\\\\04_SQL_basico\\\\claves.json\"\n",
    "    usuario, password, host = read_keys(archivo_json)\n",
    "    # Variables de conexión MySQL\n",
    "    nombre_base_de_datos = \"sale_data\"\n",
    "    conexion_mysql, cursor = init_conn(usuario, password, host)\n",
    "    crear_base_sql(cursor, conexion_mysql, nombre_base_de_datos)\n",
    "    # Nombre de la tabla MySQL\n",
    "    tabla_mysql = \"dim_shipping_area\"\n",
    "    # Ruta del archivo CSV\n",
    "    archivo_csv = \"C:\\\\Users\\\\tsuda\\\\dataelite\\\\dataelite2024\\\\04_SQL_basico\\\\src\\\\dim_shipping_area.csv\"\n",
    "    crear_tabla_sql(\n",
    "        usuario, password, host, nombre_base_de_datos, tabla_mysql, archivo_csv\n",
    "    )\n",
    "# source env_pruebas/bin/activate\n",
    "# 1369"
   ]
  },
  {
   "cell_type": "code",
   "execution_count": null,
   "metadata": {},
   "outputs": [],
   "source": []
  }
 ],
 "metadata": {
  "kernelspec": {
   "display_name": "venv",
   "language": "python",
   "name": "python3"
  },
  "language_info": {
   "codemirror_mode": {
    "name": "ipython",
    "version": 3
   },
   "file_extension": ".py",
   "mimetype": "text/x-python",
   "name": "python",
   "nbconvert_exporter": "python",
   "pygments_lexer": "ipython3",
   "version": "3.11.4"
  }
 },
 "nbformat": 4,
 "nbformat_minor": 2
}
