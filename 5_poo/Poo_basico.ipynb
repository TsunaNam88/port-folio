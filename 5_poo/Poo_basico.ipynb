{
 "cells": [
  {
   "cell_type": "markdown",
   "metadata": {},
   "source": [
    "# PPO Básico"
   ]
  },
  {
   "cell_type": "markdown",
   "metadata": {},
   "source": [
    "Imagina que trabajas con un pequeño dataset de ventas diarias en una retail. Cada venta se representa como un diccionario que contiene la siguiente información:"
   ]
  },
  {
   "cell_type": "code",
   "execution_count": 4,
   "metadata": {},
   "outputs": [
    {
     "data": {
      "text/plain": [
       "{'id_venta': int, 'producto': str, 'cantidad': int, 'precio_unitario': float}"
      ]
     },
     "execution_count": 4,
     "metadata": {},
     "output_type": "execute_result"
    }
   ],
   "source": [
    "{\n",
    "    \"id_venta\": int,     # Identificador único de la venta\n",
    "    \"producto\": str,     # Nombre del producto vendido\n",
    "    \"cantidad\": int,     # Cantidad de unidades vendidas\n",
    "    \"precio_unitario\": float  # Precio por unidad del producto\n",
    "}"
   ]
  },
  {
   "cell_type": "markdown",
   "metadata": {},
   "source": [
    "Por ejemplo, podrías tener una lista de diccionarios así:"
   ]
  },
  {
   "cell_type": "code",
   "execution_count": 5,
   "metadata": {},
   "outputs": [],
   "source": [
    "ventas = [\n",
    "    {\"id_venta\": 1, \"producto\": \"Café Americano\", \"cantidad\": 2, \"precio_unitario\": 1.5},\n",
    "    {\"id_venta\": 2, \"producto\": \"Café Latte\", \"cantidad\": 1, \"precio_unitario\": 2.0},\n",
    "    {\"id_venta\": 3, \"producto\": \"Muffin\", \"cantidad\": 3, \"precio_unitario\": 1.2},\n",
    "    # ...\n",
    "]"
   ]
  },
  {
   "cell_type": "markdown",
   "metadata": {},
   "source": [
    "Tu reto es crear una clase que procese estos datos y ofrezca funcionalidades básicas."
   ]
  },
  {
   "cell_type": "markdown",
   "metadata": {},
   "source": [
    "### **Requisitos:**\n",
    "\n",
    "1. **Definición de la clase**  \n",
    "   - Crea una clase llamada `SalesProcessor`.  \n",
    "   - En su método constructor (`__init__`), deberá recibir una lista de diccionarios con el formato descrito anteriormente y guardarla como un atributo de instancia (por ejemplo, `self.ventas`).\n",
    "\n",
    "2. **Método para calcular las ventas totales**  \n",
    "   - Crea un método, por ejemplo `calculate_total_sales()`, que:\n",
    "     - Calcule la venta total (suma de `cantidad * precio_unitario` para cada venta).\n",
    "     - Regrese el monto total de las ventas como un valor numérico.\n",
    "\n",
    "3. **Método para filtrar ventas por producto**  \n",
    "   - Crea un método, por ejemplo `filter_by_product(product_name)`, que:\n",
    "     - Reciba como parámetro el nombre de un producto (cadena de texto).\n",
    "     - Regrese una **nueva lista de diccionarios** donde aparezcan solamente las ventas correspondientes a ese producto.\n",
    "\n",
    "4. **Método para agregar una nueva venta**  \n",
    "   - Crea un método, por ejemplo `add_sale(sale_dict)`, que:\n",
    "     - Reciba como parámetro un diccionario con la información de una nueva venta.\n",
    "     - Valide que este diccionario tenga las claves: `id_venta`, `producto`, `cantidad` y `precio_unitario`.\n",
    "     - Si es válido, agrega la venta a la lista de ventas existente en la clase.\n",
    "     - Si no es válido, lanza una excepción o muestra un mensaje de error.\n",
    "\n",
    "5. **Otros detalles**  \n",
    "   - Asegúrate de seguir buenas prácticas de POO, manteniendo encapsulada la lógica de negocio.\n",
    "   - Aplica un estilo de código limpio que cumpla con PEP8.\n",
    "   - No olvides cubrir casos especiales; por ejemplo, ¿qué sucede si la lista está vacía?, ¿qué pasa si recibes un diccionario incompleto?\n",
    "\n",
    "\n",
    "**Ejemplo de uso esperado:**\n"
   ]
  },
  {
   "cell_type": "code",
   "execution_count": null,
   "metadata": {},
   "outputs": [],
   "source": [
    "class SalesProcessor:\n",
    "    \"\"\"Clase para procesar ventas desde un diccionario\"\"\"\n",
    "\n",
    "    def __init__(self, ventas):\n",
    "        self.ventas = ventas\n",
    "\n",
    "    def calculate_total_sales(self):\n",
    "        \"\"\"\n",
    "        -Recibe una lista de diccionarios, por cada diccionario obtiene\n",
    "        cantidad y precio unitario\n",
    "        -Regresa un valor numerico\"\"\"\n",
    "        cuenta = [item[\"cantidad\"] * item[\"precio_unitario\"] for item in self.ventas]\n",
    "        total = sum(cuenta)\n",
    "        return f\"El total de la cuenta es: {total}\"\n",
    "\n",
    "    def filter_by_product(self, product):\n",
    "        \"\"\"\n",
    "        Recorre una lista de diccionarios y devuelve solo aquellos\n",
    "        con el valor \"product\"\n",
    "        \"\"\"\n",
    "        results = [item for item in self.ventas if item[\"producto\"] == product]\n",
    "        return results\n",
    "\n",
    "    def add_sale(self, new_sale):\n",
    "        \"\"\"\n",
    "        Agrega un nuevo diccionario a la lista\n",
    "        \"\"\"\n",
    "        self.ventas.append(new_sale)\n",
    "        return self.ventas"
   ]
  },
  {
   "cell_type": "code",
   "execution_count": 37,
   "metadata": {},
   "outputs": [
    {
     "name": "stdout",
     "output_type": "stream",
     "text": [
      "('El total de la cuenta es: ', 5.0)\n",
      "[{'id_venta': 2, 'producto': 'Café Latte', 'cantidad': 1, 'precio_unitario': 2.0}]\n",
      "('El total de la cuenta es: ', 8.6)\n"
     ]
    }
   ],
   "source": [
    "# Datos iniciales\n",
    "ventas_iniciales = [\n",
    "    {\"id_venta\": 1, \"producto\": \"Café Americano\", \"cantidad\": 2, \"precio_unitario\": 1.5},\n",
    "    {\"id_venta\": 2, \"producto\": \"Café Latte\", \"cantidad\": 1, \"precio_unitario\": 2.0},\n",
    "]\n",
    "\n",
    "# Instanciamos la clase con la lista de ventas\n",
    "procesador = SalesProcessor(ventas_iniciales)\n",
    "\n",
    "# Calculamos el total de ventas\n",
    "total = procesador.calculate_total_sales()\n",
    "print(total)  # Debería mostrar la suma total de esas ventas\n",
    "\n",
    "# Filtramos por producto \"Café Latte\"\n",
    "ventas_latte = procesador.filter_by_product(\"Café Latte\")\n",
    "print(ventas_latte)  # Debería mostrar una lista con las ventas de \"Café Latte\"\n",
    "\n",
    "# Agregamos una nueva venta\n",
    "nueva_venta = {\"id_venta\": 3, \"producto\": \"Muffin\", \"cantidad\": 3, \"precio_unitario\": 1.2}\n",
    "procesador.add_sale(nueva_venta)\n",
    "\n",
    "# Verificamos el total nuevamente\n",
    "nuevo_total = procesador.calculate_total_sales()\n",
    "print(nuevo_total)  # Debería haber aumentado según la nueva venta"
   ]
  }
 ],
 "metadata": {
  "kernelspec": {
   "display_name": "env_",
   "language": "python",
   "name": "python3"
  },
  "language_info": {
   "codemirror_mode": {
    "name": "ipython",
    "version": 3
   },
   "file_extension": ".py",
   "mimetype": "text/x-python",
   "name": "python",
   "nbconvert_exporter": "python",
   "pygments_lexer": "ipython3",
   "version": "3.11.4"
  }
 },
 "nbformat": 4,
 "nbformat_minor": 2
}
