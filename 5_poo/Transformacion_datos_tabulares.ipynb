{
 "cells": [
  {
   "cell_type": "markdown",
   "metadata": {},
   "source": [
    "# POO Con datos tabulares"
   ]
  },
  {
   "cell_type": "markdown",
   "metadata": {},
   "source": [
    "En este reto, deberás procesar registros de vuelos en formato **JSON newlines delimited**, aplicando Programación Orientada a Objetos (POO) y generando un archivo final en Parquet. La idea es que crees tres clases para manejar las etapas de extracción, transformación y guardado de la información.\n",
    "\n",
    "<br>\n",
    "\n",
    "> Nota:\n",
    "> Un archivo Parquet es un formato de almacenamiento de datos columnar, diseñado para manejar grandes volúmenes de información de manera eficiente. Al trabajar con columnas, no solo permite una compresión y un procesamiento más rápidos en comparación con formatos basados en filas (como CSV), sino que también almacena los tipos de datos de cada columna, lo que facilita tanto la optimización como la integridad de la información. "
   ]
  },
  {
   "cell_type": "markdown",
   "metadata": {},
   "source": [
    "---\n",
    "\n",
    "## Diccionario de datos\n",
    "Cada línea del archivo de entrada contiene un objeto JSON con la siguiente estructura (ejemplo de registro):\n",
    "\n",
    "```json\n",
    "\n",
    "{\"FL_DATE\": \"2006-01-01\", \"DEP_DELAY\": 5, \"ARR_DELAY\": 19, \"AIR_TIME\": 350, \"DISTANCE\": 2475, \"DEP_TIME\": 9.083333, \"ARR_TIME\": 12.483334}\n",
    "{\"FL_DATE\": \"2006-01-02\", \"DEP_DELAY\": 167, \"ARR_DELAY\": 216, \"AIR_TIME\": 343, \"DISTANCE\": 2475, \"DEP_TIME\": 11.783334, \"ARR_TIME\": 15.766666}\n",
    "{\"FL_DATE\": \"2006-01-03\", \"DEP_DELAY\": -7, \"ARR_DELAY\": -2, \"AIR_TIME\": 344, \"DISTANCE\": 2475, \"DEP_TIME\": 8.883333, \"ARR_TIME\": 12.133333}\n",
    "```\n",
    "\n",
    "donde\n",
    "\n",
    "- **FL_DATE**: Fecha del vuelo.\n",
    "- **DEP_DELAY**: Retraso de despegue (en minutos).\n",
    "- **ARR_DELAY**: Retraso de aterrizaje (en minutos).\n",
    "- **AIR_TIME**: Tiempo total en el aire (en minutos).\n",
    "- **DISTANCE**: Distancia total recorrida (en millas).\n",
    "- **DEP_TIME**: Hora de despegue en formato decimal (por ejemplo, `9.083333` para ~9:05).\n",
    "- **ARR_TIME**: Hora de aterrizaje en formato decimal (por ejemplo, `23.483334` para ~23:29)."
   ]
  },
  {
   "cell_type": "markdown",
   "metadata": {},
   "source": [
    "---\n",
    "## Clases a implementar\n",
    "\n",
    "\n",
    "1. **Clase de Extracción**  \n",
    "   - Leer los registros en formato JSON newlines delimited.  \n",
    "   - Almacenar o retornar estos datos como una estructura de Python (lista de diccionarios).\n",
    "\n",
    "2. **Clase de Transformación**  \n",
    "   - Aplicar las **transformaciones** necesarias, renombrar campos y generar las nuevas columnas que se detallan más adelante.  \n",
    "   - **No** se explicará el procedimiento de cómo hacer cada transformación, solo lo que se espera obtener.\n",
    "\n",
    "3. **Clase de Guardado**  \n",
    "   - Guardar los datos resultantes en formato **Parquet**.  \n",
    "   - Se debe forzar un **esquema** con tipos de datos específicos para cada columna.\n",
    "\n",
    "<br>\n",
    "<br>\n",
    "\n",
    "> #### Nota\n",
    "> ##### Puedes implementar más clases si así lo consideras necesario."
   ]
  },
  {
   "cell_type": "markdown",
   "metadata": {},
   "source": [
    "---\n",
    "\n",
    "## Transformaciones esperadas\n",
    "\n",
    "1. **Conversión de campos**  \n",
    "   - Se espera que conviertas `FL_DATE` en un objeto `datetime`.\n",
    "   - `DEP_TIME` debe estar en formato %H:%M.\n",
    "   - `ARR_TIME` debe estar en formato %H:%M.\n",
    "\n",
    "\n",
    "2. **Creación de **nuevas** variables derivadas**  \n",
    "   - `flight_datetime` en formato datetime que represente la fecha y hora de despegue del vuelo.\n",
    "   - `average_speed` de cada vuelo, calculada como `DISTANCE / (AIR_TIME / 60)` (millas por hora).\n",
    "   - `total_delay` como la suma de `DEP_DELAY` y `ARR_DELAY`.\n",
    "   - `on_time` como un indicador booleano (true/false) de si el vuelo llegó a tiempo co con retraso total.\n",
    "   - `day_of_week` como el día de la semana del vuelo.\n",
    "   - `day_of_month` como el día del mes del vuelo.\n",
    "   - `month` como mes del vuelo.\n",
    "\n",
    "3. **Renombrar campos**  \n",
    "     - `FL_DATE` → `flight_date`\n",
    "     - `DEP_DELAY` → `departure_delay`\n",
    "     - `ARR_DELAY` → `arrival_delay`\n",
    "     - `AIR_TIME` → `air_time_minutes`\n",
    "     - `DISTANCE` → `distance_miles`\n",
    "     - `DEP_TIME` → `departure_time_decimal`\n",
    "     - `ARR_TIME` → `arrival_time_decimal`\n"
   ]
  },
  {
   "cell_type": "markdown",
   "metadata": {},
   "source": [
    "---\n",
    "## Esquema de datos del parquet\n",
    "\n",
    "El archivo Parquet final deberá poseer estos campos con los tipos indicados:\n",
    "\n",
    "- `flight_date`: datetime\n",
    "- `departure_delay`: int16\n",
    "- `arrival_delay`: int16\n",
    "- `air_time_minutes`: int16\n",
    "- `distance_miles`: int32\n",
    "- `departure_time_decimal`: str\n",
    "- `arrival_time_decimal`: str\n",
    "- `flight_datetime`: datetime\n",
    "- `average_speed`: float64\n",
    "- `total_delay`: int16\n",
    "- `on_time`: bool\n",
    "- `day_of_week`: int16\n",
    "- `day_of_month`: int16\n",
    "- `month`: int16"
   ]
  },
  {
   "cell_type": "markdown",
   "metadata": {},
   "source": [
    "---\n",
    "\n",
    "## Archivo `main.py`\n",
    "\n",
    "Además de las tres clases, deberás crear un archivo **`main.py`** cuyo propósito es **controlar** el flujo completo del programa. Debe:\n",
    "\n",
    "1. **Instanciar** la clase de extracción para leer los datos de vuelos.  \n",
    "2. **Instanciar** la clase de transformación para generar los campos y renombrar adecuadamente cada columna.  \n",
    "3. **Instanciar** la clase de guardado para exportar el resultado final en formato Parquet.  \n",
    "\n",
    "El archivo **`main.py`** no debe contener lógica de transformación o lectura dentro de él; simplemente hace llamadas a los métodos correspondientes de cada clase.\n"
   ]
  },
  {
   "cell_type": "markdown",
   "metadata": {},
   "source": [
    "\n",
    "---\n",
    "\n",
    "## Estructura de archivos sugerida\n",
    "\n",
    "La carpeta del proyecto podría organizarse así:\n",
    "\n",
    "```\n",
    "├── extraction.py      (clase de Extracción)\n",
    "├── transform.py       (clase de Transformación)\n",
    "├── load.py            (clase de Guardado)\n",
    "├── main.py            (punto de entrada principal del programa)\n",
    "└── README.md          (documentación)\n",
    "```\n",
    "\n",
    "- **`extraction.py`**: define la clase encargada de leer los datos.  \n",
    "- **`transform.py`**: define la clase que aplica las transformaciones requeridas.  \n",
    "- **`load.py`**: define la clase que maneja la exportación a Parquet.  \n",
    "- **`main.py`**: archivo principal que orquesta el uso de las tres clases anteriores y ejecuta todo el flujo de trabajo.  "
   ]
  },
  {
   "cell_type": "markdown",
   "metadata": {},
   "source": [
    "\n",
    "---\n",
    "\n",
    "## Entregables\n",
    "\n",
    "1. **Las clases** ubicadas en sus respectivos archivos, implementando toda la lógica requerida.  \n",
    "2. **`main.py`** que coordine la ejecución de la extracción, transformación y guardado.  \n",
    "3. **Archivo Parquet** resultante con los campos y tipos señalados.\n",
    "\n",
    "\n",
    "Se evaluará:\n",
    "\n",
    "- Lógica de programación.\n",
    "- Código duplicado.\n",
    "- Estructura de clases.\n",
    "- Pep8.\n",
    "- Esquema final del parquet (**NO SUBIR AL REPOSITORIO, SUBIR A UN DRIVE Y COMPARTIR EL ENLACE**)\n",
    "- Tiempo de ejecución de todo el proceso.\n",
    "- En un entorno real estas tablas resultantes son el punto de partida para un análisis posterior, por lo tanto no deben llevar registros corruptos o \"sucios\". En su lugar **SIEMPRE** deben manejarse estos registros y no desecharse."
   ]
  },
  {
   "cell_type": "markdown",
   "metadata": {},
   "source": [
    "---\n",
    "## IMPORTANTE:\n",
    "\n",
    "A pesar de poder solucionar el problema con `pandas`, todas las transformaciones deben realizarse con listas de diccionarios y solo hasta la etapa de guardado puedes transformar estas listas a un dataframe para guardarlo como parquet (si así lo deseas).\n",
    "\n",
    "Ya habrá tiempo de hacerlo con `pandas`.\n",
    "\n",
    "\n",
    "NO SUBAS LOS DATOS AL REPOSITORIO. Puedes poner todos los datos en una carpeta retos_src en la raíz del proyecto."
   ]
  },
  {
   "cell_type": "markdown",
   "metadata": {},
   "source": []
  }
 ],
 "metadata": {
  "kernelspec": {
   "display_name": "dataelite2025-bA5qp9d8",
   "language": "python",
   "name": "python3"
  },
  "language_info": {
   "codemirror_mode": {
    "name": "ipython",
    "version": 3
   },
   "file_extension": ".py",
   "mimetype": "text/x-python",
   "name": "python",
   "nbconvert_exporter": "python",
   "pygments_lexer": "ipython3",
   "version": "3.10.11"
  }
 },
 "nbformat": 4,
 "nbformat_minor": 2
}
